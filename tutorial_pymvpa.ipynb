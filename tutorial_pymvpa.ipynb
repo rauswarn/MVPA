{
 "cells": [
  {
   "cell_type": "code",
   "execution_count": 1,
   "metadata": {},
   "outputs": [
    {
     "name": "stderr",
     "output_type": "stream",
     "text": [
      "/home/rauswarn/anaconda2/envs/pymvpa/lib/python2.7/site-packages/mvpa2/testing/tools.py:81: DeprecationWarning: Importing from numpy.testing.decorators is deprecated since numpy 1.15.0, import from numpy.testing instead.\n",
      "  from numpy.testing.decorators import skipif\n"
     ]
    }
   ],
   "source": [
    "from mvpa2.tutorial_suite import *"
   ]
  },
  {
   "cell_type": "code",
   "execution_count": 12,
   "metadata": {},
   "outputs": [],
   "source": [
    "d = Dataset([[1,2,3], [4,5,6], [7,8,9], [1,2,3]])"
   ]
  },
  {
   "cell_type": "code",
   "execution_count": 17,
   "metadata": {},
   "outputs": [
    {
     "name": "stdout",
     "output_type": "stream",
     "text": [
      "(Dataset(array([[1, 2, 3],\n",
      "       [4, 5, 6],\n",
      "       [7, 8, 9],\n",
      "       [1, 2, 3]]), sa=SampleAttributesCollection(items=[]), fa=FeatureAttributesCollection(items=[]), a=DatasetAttributesCollection(items=[])), <class 'mvpa2.datasets.base.Dataset'>)\n"
     ]
    }
   ],
   "source": [
    "print(type(d))"
   ]
  },
  {
   "cell_type": "code",
   "execution_count": 31,
   "metadata": {},
   "outputs": [
    {
     "data": {
      "text/plain": [
       "dict_values([])"
      ]
     },
     "execution_count": 31,
     "metadata": {},
     "output_type": "execute_result"
    }
   ],
   "source": [
    "d.fa.viewvalues()"
   ]
  },
  {
   "cell_type": "code",
   "execution_count": 20,
   "metadata": {},
   "outputs": [
    {
     "data": {
      "text/plain": [
       "4"
      ]
     },
     "execution_count": 20,
     "metadata": {},
     "output_type": "execute_result"
    }
   ],
   "source": [
    "len(d)"
   ]
  },
  {
   "cell_type": "code",
   "execution_count": 15,
   "metadata": {},
   "outputs": [
    {
     "data": {
      "text/plain": [
       "3"
      ]
     },
     "execution_count": 15,
     "metadata": {},
     "output_type": "execute_result"
    }
   ],
   "source": [
    "d.nfeatures"
   ]
  },
  {
   "cell_type": "code",
   "execution_count": 16,
   "metadata": {},
   "outputs": [
    {
     "data": {
      "text/plain": [
       "4"
      ]
     },
     "execution_count": 16,
     "metadata": {},
     "output_type": "execute_result"
    }
   ],
   "source": [
    "d.nsamples"
   ]
  },
  {
   "cell_type": "code",
   "execution_count": 49,
   "metadata": {},
   "outputs": [],
   "source": [
    "#Sample == Row\n",
    "\n",
    "#add row names\n",
    "d.sa['something'] = [0.1,0.2,0.3,0.4]\n",
    "d.sa['something_else'] = [100, 101, 102, 103]"
   ]
  },
  {
   "cell_type": "code",
   "execution_count": 50,
   "metadata": {},
   "outputs": [
    {
     "data": {
      "text/plain": [
       "Dataset(array([[1, 2, 3]]), sa=SampleAttributesCollection(items=[ArrayCollectable(name='something_else', doc=None, value=array([103]), length=1), ArrayCollectable(name='something', doc=None, value=array([0.4]), length=1)]), fa=FeatureAttributesCollection(items=[]), a=DatasetAttributesCollection(items=[]))"
      ]
     },
     "execution_count": 50,
     "metadata": {},
     "output_type": "execute_result"
    }
   ],
   "source": [
    "d[3]"
   ]
  },
  {
   "cell_type": "code",
   "execution_count": 56,
   "metadata": {},
   "outputs": [
    {
     "data": {
      "text/plain": [
       "ArrayCollectable(name='something', doc='Sequence attribute', value=array([0.1, 0.2, 0.3, 0.4]), length=4)"
      ]
     },
     "execution_count": 56,
     "metadata": {},
     "output_type": "execute_result"
    }
   ],
   "source": [
    "d.sa['something']"
   ]
  },
  {
   "cell_type": "code",
   "execution_count": 57,
   "metadata": {},
   "outputs": [
    {
     "data": {
      "text/plain": [
       "array([[1, 2, 3],\n",
       "       [4, 5, 6],\n",
       "       [7, 8, 9],\n",
       "       [1, 2, 3]])"
      ]
     },
     "execution_count": 57,
     "metadata": {},
     "output_type": "execute_result"
    }
   ],
   "source": [
    "d.samples"
   ]
  },
  {
   "cell_type": "code",
   "execution_count": 62,
   "metadata": {},
   "outputs": [
    {
     "data": {
      "text/plain": [
       "Dataset(array([[1],\n",
       "       [7]]), sa=SampleAttributesCollection(items=[ArrayCollectable(name='something_else', doc=None, value=array([100, 102]), length=2), ArrayCollectable(name='something', doc=None, value=array([0.1, 0.3]), length=2)]), fa=FeatureAttributesCollection(items=[]), a=DatasetAttributesCollection(items=[]))"
      ]
     },
     "execution_count": 62,
     "metadata": {},
     "output_type": "execute_result"
    }
   ],
   "source": [
    "d[[0,2],0]"
   ]
  },
  {
   "cell_type": "code",
   "execution_count": 65,
   "metadata": {},
   "outputs": [],
   "source": [
    "d.fa['another thing'] = ['a', 'b', 'c']"
   ]
  },
  {
   "cell_type": "code",
   "execution_count": 68,
   "metadata": {},
   "outputs": [
    {
     "data": {
      "text/plain": [
       "FeatureAttributesCollection(items=[ArrayCollectable(name='another thing', doc='Sequence attribute', value=array(['a', 'b', 'c'], dtype='|S1'), length=3)])"
      ]
     },
     "execution_count": 68,
     "metadata": {},
     "output_type": "execute_result"
    }
   ],
   "source": [
    "d.fa"
   ]
  },
  {
   "cell_type": "code",
   "execution_count": 69,
   "metadata": {},
   "outputs": [
    {
     "data": {
      "text/plain": [
       "'./haxby2001/sub001/BOLD/task001_run001/bold.nii.gz'"
      ]
     },
     "execution_count": 69,
     "metadata": {},
     "output_type": "execute_result"
    }
   ],
   "source": [
    "os.path.join(tutorial_data_path, 'haxby2001', 'sub001',\n",
    "...                           'BOLD', 'task001_run001', 'bold.nii.gz')"
   ]
  },
  {
   "cell_type": "code",
   "execution_count": 80,
   "metadata": {},
   "outputs": [],
   "source": [
    "bold_fname = r'/media/rauswarn/ESD-ISO/Himanshu/20190611142954_ep2d_pace_moco_dynt_C_MOTOR_PREP_28.nii'"
   ]
  },
  {
   "cell_type": "code",
   "execution_count": 82,
   "metadata": {},
   "outputs": [],
   "source": [
    "hmc = fmri_dataset(bold_fname)"
   ]
  },
  {
   "cell_type": "code",
   "execution_count": 87,
   "metadata": {},
   "outputs": [
    {
     "data": {
      "text/plain": [
       "FeatureAttributesCollection(items=[ArrayCollectable(name='voxel_indices', doc='Sequence attribute', value=array([[ 0,  0,  0],\n",
       "       [ 0,  0,  1],\n",
       "       [ 0,  0,  2],\n",
       "       ...,\n",
       "       [63, 63, 27],\n",
       "       [63, 63, 28],\n",
       "       [63, 63, 29]]), length=122880)])"
      ]
     },
     "execution_count": 87,
     "metadata": {},
     "output_type": "execute_result"
    }
   ],
   "source": [
    "hmc.fa"
   ]
  },
  {
   "cell_type": "code",
   "execution_count": 88,
   "metadata": {},
   "outputs": [
    {
     "data": {
      "text/plain": [
       "SampleAttributesCollection(items=[ArrayCollectable(name='time_indices', doc='Sequence attribute', value=array([  0,   1,   2,   3,   4,   5,   6,   7,   8,   9,  10,  11,  12,\n",
       "        13,  14,  15,  16,  17,  18,  19,  20,  21,  22,  23,  24,  25,\n",
       "        26,  27,  28,  29,  30,  31,  32,  33,  34,  35,  36,  37,  38,\n",
       "        39,  40,  41,  42,  43,  44,  45,  46,  47,  48,  49,  50,  51,\n",
       "        52,  53,  54,  55,  56,  57,  58,  59,  60,  61,  62,  63,  64,\n",
       "        65,  66,  67,  68,  69,  70,  71,  72,  73,  74,  75,  76,  77,\n",
       "        78,  79,  80,  81,  82,  83,  84,  85,  86,  87,  88,  89,  90,\n",
       "        91,  92,  93,  94,  95,  96,  97,  98,  99, 100, 101, 102, 103,\n",
       "       104, 105, 106, 107, 108, 109, 110, 111, 112, 113, 114, 115, 116,\n",
       "       117, 118, 119, 120, 121, 122, 123, 124, 125, 126, 127, 128, 129,\n",
       "       130, 131, 132, 133, 134, 135, 136, 137, 138, 139, 140, 141, 142,\n",
       "       143, 144, 145, 146, 147, 148, 149, 150, 151, 152, 153, 154, 155,\n",
       "       156, 157, 158, 159, 160, 161, 162, 163, 164, 165, 166, 167, 168,\n",
       "       169, 170, 171, 172, 173, 174, 175, 176, 177, 178, 179, 180, 181,\n",
       "       182, 183, 184, 185, 186, 187, 188, 189, 190, 191, 192, 193, 194,\n",
       "       195, 196, 197, 198, 199, 200, 201, 202, 203, 204, 205, 206]), length=207), ArrayCollectable(name='time_coords', doc='Sequence attribute', value=array([  0.,   2.,   4.,   6.,   8.,  10.,  12.,  14.,  16.,  18.,  20.,\n",
       "        22.,  24.,  26.,  28.,  30.,  32.,  34.,  36.,  38.,  40.,  42.,\n",
       "        44.,  46.,  48.,  50.,  52.,  54.,  56.,  58.,  60.,  62.,  64.,\n",
       "        66.,  68.,  70.,  72.,  74.,  76.,  78.,  80.,  82.,  84.,  86.,\n",
       "        88.,  90.,  92.,  94.,  96.,  98., 100., 102., 104., 106., 108.,\n",
       "       110., 112., 114., 116., 118., 120., 122., 124., 126., 128., 130.,\n",
       "       132., 134., 136., 138., 140., 142., 144., 146., 148., 150., 152.,\n",
       "       154., 156., 158., 160., 162., 164., 166., 168., 170., 172., 174.,\n",
       "       176., 178., 180., 182., 184., 186., 188., 190., 192., 194., 196.,\n",
       "       198., 200., 202., 204., 206., 208., 210., 212., 214., 216., 218.,\n",
       "       220., 222., 224., 226., 228., 230., 232., 234., 236., 238., 240.,\n",
       "       242., 244., 246., 248., 250., 252., 254., 256., 258., 260., 262.,\n",
       "       264., 266., 268., 270., 272., 274., 276., 278., 280., 282., 284.,\n",
       "       286., 288., 290., 292., 294., 296., 298., 300., 302., 304., 306.,\n",
       "       308., 310., 312., 314., 316., 318., 320., 322., 324., 326., 328.,\n",
       "       330., 332., 334., 336., 338., 340., 342., 344., 346., 348., 350.,\n",
       "       352., 354., 356., 358., 360., 362., 364., 366., 368., 370., 372.,\n",
       "       374., 376., 378., 380., 382., 384., 386., 388., 390., 392., 394.,\n",
       "       396., 398., 400., 402., 404., 406., 408., 410., 412.]), length=207)])"
      ]
     },
     "execution_count": 88,
     "metadata": {},
     "output_type": "execute_result"
    }
   ],
   "source": [
    "hmc.sa"
   ]
  },
  {
   "cell_type": "code",
   "execution_count": 89,
   "metadata": {},
   "outputs": [
    {
     "data": {
      "text/plain": [
       "memmap([[0, 0, 0, ..., 6, 6, 6],\n",
       "        [0, 0, 0, ..., 7, 9, 6],\n",
       "        [0, 0, 0, ..., 9, 7, 6],\n",
       "        ...,\n",
       "        [0, 0, 0, ..., 7, 7, 7],\n",
       "        [0, 0, 0, ..., 7, 5, 6],\n",
       "        [0, 0, 0, ..., 7, 6, 8]], dtype=int16)"
      ]
     },
     "execution_count": 89,
     "metadata": {},
     "output_type": "execute_result"
    }
   ],
   "source": [
    "hmc.samples"
   ]
  },
  {
   "cell_type": "code",
   "execution_count": 96,
   "metadata": {},
   "outputs": [
    {
     "data": {
      "text/plain": [
       "(3.75, 3.75, 5.0)"
      ]
     },
     "execution_count": 96,
     "metadata": {},
     "output_type": "execute_result"
    }
   ],
   "source": [
    "hmc.a.voxel_eldim"
   ]
  },
  {
   "cell_type": "code",
   "execution_count": 100,
   "metadata": {},
   "outputs": [
    {
     "data": {
      "text/plain": [
       "array([[ 0,  0,  0],\n",
       "       [ 0,  0,  1],\n",
       "       [ 0,  0,  2],\n",
       "       ...,\n",
       "       [63, 63, 27],\n",
       "       [63, 63, 28],\n",
       "       [63, 63, 29]])"
      ]
     },
     "execution_count": 100,
     "metadata": {},
     "output_type": "execute_result"
    }
   ],
   "source": [
    "hmc.fa.voxel_indices"
   ]
  },
  {
   "cell_type": "code",
   "execution_count": 103,
   "metadata": {},
   "outputs": [],
   "source": [
    "ds = dataset_wizard(np.ones((5,12)))"
   ]
  },
  {
   "cell_type": "code",
   "execution_count": null,
   "metadata": {},
   "outputs": [],
   "source": []
  },
  {
   "cell_type": "code",
   "execution_count": 105,
   "metadata": {},
   "outputs": [
    {
     "data": {
      "text/plain": [
       "FlattenMapper(shape=(64, 64, 30), auto_train=True, space='voxel_indices')"
      ]
     },
     "execution_count": 105,
     "metadata": {},
     "output_type": "execute_result"
    }
   ],
   "source": [
    "hmc.a.mapper"
   ]
  },
  {
   "cell_type": "code",
   "execution_count": 107,
   "metadata": {},
   "outputs": [
    {
     "data": {
      "text/plain": [
       "(207, 122880)"
      ]
     },
     "execution_count": 107,
     "metadata": {},
     "output_type": "execute_result"
    }
   ],
   "source": [
    "hmc.shape"
   ]
  },
  {
   "cell_type": "code",
   "execution_count": 108,
   "metadata": {},
   "outputs": [
    {
     "data": {
      "text/plain": [
       "(64, 64, 30)"
      ]
     },
     "execution_count": 108,
     "metadata": {},
     "output_type": "execute_result"
    }
   ],
   "source": [
    "hmc.a.voxel_dim"
   ]
  },
  {
   "cell_type": "code",
   "execution_count": null,
   "metadata": {},
   "outputs": [],
   "source": []
  },
  {
   "cell_type": "code",
   "execution_count": null,
   "metadata": {},
   "outputs": [],
   "source": []
  }
 ],
 "metadata": {
  "kernelspec": {
   "display_name": "Python 2",
   "language": "python",
   "name": "python2"
  },
  "language_info": {
   "codemirror_mode": {
    "name": "ipython",
    "version": 2
   },
   "file_extension": ".py",
   "mimetype": "text/x-python",
   "name": "python",
   "nbconvert_exporter": "python",
   "pygments_lexer": "ipython2",
   "version": "2.7.16"
  }
 },
 "nbformat": 4,
 "nbformat_minor": 2
}
